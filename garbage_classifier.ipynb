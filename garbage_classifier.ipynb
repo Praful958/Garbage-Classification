{
 "cells": [
  {
   "cell_type": "code",
   "execution_count": 1,
   "id": "e474c612",
   "metadata": {},
   "outputs": [],
   "source": [
    "import os\n",
    "import numpy as np\n",
    "import matplotlib.pyplot as plt\n",
    "from tensorflow.keras.preprocessing.image import load_img, img_to_array"
   ]
  },
  {
   "cell_type": "code",
   "execution_count": 3,
   "id": "4793932c",
   "metadata": {},
   "outputs": [],
   "source": [
    "# Dataset path\n",
    "dataset_path = 'dataset'\n",
    "\n",
    "categories = ['biodegradable', 'non_biodegradable']\n",
    "data = []\n",
    "labels = []\n",
    "\n",
    "# Image size\n",
    "img_size = (128, 128)  # Resize all images to same size\n",
    "\n",
    "for category in categories:\n",
    "    folder_path = os.path.join(dataset_path, category)\n",
    "    label = categories.index(category)  # 0 for biodegradable, 1 for non_biodegradable\n",
    "    \n",
    "    for img_name in os.listdir(folder_path):\n",
    "        img_path = os.path.join(folder_path, img_name)\n",
    "        try:\n",
    "            img = load_img(img_path, target_size=img_size)\n",
    "            img_array = img_to_array(img)\n",
    "            data.append(img_array)\n",
    "            labels.append(label)\n",
    "        except Exception as e:\n",
    "            print(f\"Error loading image {img_name}: {e}\")\n"
   ]
  },
  {
   "cell_type": "code",
   "execution_count": 4,
   "id": "4768ec69",
   "metadata": {},
   "outputs": [
    {
     "name": "stdout",
     "output_type": "stream",
     "text": [
      "Total images loaded: 50\n",
      "Labels found: {0, 1}\n"
     ]
    }
   ],
   "source": [
    "print(f\"Total images loaded: {len(data)}\")\n",
    "print(f\"Labels found: {set(labels)}\")"
   ]
  },
  {
   "cell_type": "code",
   "execution_count": 5,
   "id": "c9fb71d1",
   "metadata": {},
   "outputs": [
    {
     "name": "stdout",
     "output_type": "stream",
     "text": [
      "Defaulting to user installation because normal site-packages is not writeable\n",
      "Requirement already satisfied: scikit-learn in c:\\users\\admin\\appdata\\roaming\\python\\python313\\site-packages (1.7.0)\n",
      "Requirement already satisfied: numpy>=1.22.0 in c:\\users\\admin\\appdata\\roaming\\python\\python313\\site-packages (from scikit-learn) (2.3.1)\n",
      "Requirement already satisfied: scipy>=1.8.0 in c:\\users\\admin\\appdata\\roaming\\python\\python313\\site-packages (from scikit-learn) (1.16.0)\n",
      "Requirement already satisfied: joblib>=1.2.0 in c:\\users\\admin\\appdata\\roaming\\python\\python313\\site-packages (from scikit-learn) (1.5.1)\n",
      "Requirement already satisfied: threadpoolctl>=3.1.0 in c:\\users\\admin\\appdata\\roaming\\python\\python313\\site-packages (from scikit-learn) (3.6.0)\n"
     ]
    }
   ],
   "source": [
    "!pip install scikit-learn"
   ]
  },
  {
   "cell_type": "code",
   "execution_count": 6,
   "id": "4e022722",
   "metadata": {},
   "outputs": [
    {
     "name": "stderr",
     "output_type": "stream",
     "text": [
      "'{sys.executable}' is not recognized as an internal or external command,\n",
      "operable program or batch file.\n"
     ]
    }
   ],
   "source": [
    "!{sys.executable} -m pip install scikit-learn"
   ]
  },
  {
   "cell_type": "code",
   "execution_count": 7,
   "id": "c3066b36",
   "metadata": {},
   "outputs": [
    {
     "name": "stderr",
     "output_type": "stream",
     "text": [
      "'{sys.executable}' is not recognized as an internal or external command,\n",
      "operable program or batch file.\n"
     ]
    }
   ],
   "source": [
    "!{sys.executable} -m pip install scikit-learn"
   ]
  },
  {
   "cell_type": "code",
   "execution_count": 8,
   "id": "651e0af7",
   "metadata": {},
   "outputs": [
    {
     "name": "stdout",
     "output_type": "stream",
     "text": [
      "Requirement already satisfied: scikit-learn in c:\\users\\admin\\appdata\\local\\programs\\python\\python310\\lib\\site-packages (1.7.0)\n",
      "Requirement already satisfied: threadpoolctl>=3.1.0 in c:\\users\\admin\\appdata\\local\\programs\\python\\python310\\lib\\site-packages (from scikit-learn) (3.6.0)\n",
      "Requirement already satisfied: joblib>=1.2.0 in c:\\users\\admin\\appdata\\local\\programs\\python\\python310\\lib\\site-packages (from scikit-learn) (1.5.1)\n",
      "Requirement already satisfied: scipy>=1.8.0 in c:\\users\\admin\\appdata\\local\\programs\\python\\python310\\lib\\site-packages (from scikit-learn) (1.15.3)\n",
      "Requirement already satisfied: numpy>=1.22.0 in c:\\users\\admin\\appdata\\local\\programs\\python\\python310\\lib\\site-packages (from scikit-learn) (2.1.3)\n"
     ]
    },
    {
     "name": "stderr",
     "output_type": "stream",
     "text": [
      "\n",
      "[notice] A new release of pip is available: 23.0.1 -> 25.1.1\n",
      "[notice] To update, run: python.exe -m pip install --upgrade pip\n"
     ]
    }
   ],
   "source": [
    "import sys\n",
    "!{sys.executable} -m pip install scikit-learn"
   ]
  },
  {
   "cell_type": "code",
   "execution_count": 9,
   "id": "578dd2b9",
   "metadata": {},
   "outputs": [],
   "source": [
    "from sklearn.model_selection import train_test_split"
   ]
  },
  {
   "cell_type": "code",
   "execution_count": 11,
   "id": "1422616c",
   "metadata": {},
   "outputs": [
    {
     "name": "stdout",
     "output_type": "stream",
     "text": [
      "X_train: [[7 8]\n",
      " [3 4]\n",
      " [1 2]]\n",
      "X_test: [[5 6]]\n"
     ]
    }
   ],
   "source": [
    "from sklearn.model_selection import train_test_split\n",
    "import numpy as np\n",
    "\n",
    "# Dummy example\n",
    "X = np.array([[1, 2], [3, 4], [5, 6], [7, 8]])\n",
    "y = np.array([0, 1, 0, 1])\n",
    "\n",
    "X_train, X_test, y_train, y_test = train_test_split(X, y, test_size=0.25)\n",
    "\n",
    "print(\"X_train:\", X_train)\n",
    "print(\"X_test:\", X_test)\n"
   ]
  },
  {
   "cell_type": "code",
   "execution_count": 12,
   "id": "480086ac",
   "metadata": {},
   "outputs": [
    {
     "name": "stdout",
     "output_type": "stream",
     "text": [
      "Defaulting to user installation because normal site-packages is not writeable\n",
      "Requirement already satisfied: opencv-python in c:\\users\\admin\\appdata\\roaming\\python\\python313\\site-packages (4.11.0.86)\n",
      "Requirement already satisfied: numpy>=1.21.2 in c:\\users\\admin\\appdata\\roaming\\python\\python313\\site-packages (from opencv-python) (2.3.1)\n"
     ]
    }
   ],
   "source": [
    "!pip install opencv-python"
   ]
  },
  {
   "cell_type": "code",
   "execution_count": 14,
   "id": "bf197950",
   "metadata": {},
   "outputs": [
    {
     "name": "stdout",
     "output_type": "stream",
     "text": [
      "Error reading dataset\\non_biodegradable\\battery.avif\n"
     ]
    },
    {
     "ename": "NotADirectoryError",
     "evalue": "[WinError 267] The directory name is invalid: 'dataset\\\\test_image.jpg'",
     "output_type": "error",
     "traceback": [
      "\u001b[1;31m---------------------------------------------------------------------------\u001b[0m",
      "\u001b[1;31mNotADirectoryError\u001b[0m                        Traceback (most recent call last)",
      "Cell \u001b[1;32mIn[14], line 17\u001b[0m\n\u001b[0;32m     15\u001b[0m \u001b[38;5;28;01mfor\u001b[39;00m idx, category \u001b[38;5;129;01min\u001b[39;00m \u001b[38;5;28menumerate\u001b[39m(categories):\n\u001b[0;32m     16\u001b[0m     category_path \u001b[38;5;241m=\u001b[39m os\u001b[38;5;241m.\u001b[39mpath\u001b[38;5;241m.\u001b[39mjoin(dataset_folder, category)\n\u001b[1;32m---> 17\u001b[0m     \u001b[38;5;28;01mfor\u001b[39;00m img_name \u001b[38;5;129;01min\u001b[39;00m \u001b[43mos\u001b[49m\u001b[38;5;241;43m.\u001b[39;49m\u001b[43mlistdir\u001b[49m\u001b[43m(\u001b[49m\u001b[43mcategory_path\u001b[49m\u001b[43m)\u001b[49m:\n\u001b[0;32m     18\u001b[0m         img_path \u001b[38;5;241m=\u001b[39m os\u001b[38;5;241m.\u001b[39mpath\u001b[38;5;241m.\u001b[39mjoin(category_path, img_name)\n\u001b[0;32m     19\u001b[0m         \u001b[38;5;28;01mtry\u001b[39;00m:\n",
      "\u001b[1;31mNotADirectoryError\u001b[0m: [WinError 267] The directory name is invalid: 'dataset\\\\test_image.jpg'"
     ]
    }
   ],
   "source": [
    "import os\n",
    "import cv2\n",
    "import numpy as np\n",
    "\n",
    "# Dataset folder ka path\n",
    "dataset_folder = \"dataset\"\n",
    "\n",
    "# Class names = folder ke naam\n",
    "categories = os.listdir(dataset_folder)\n",
    "\n",
    "data = []\n",
    "labels = []\n",
    "\n",
    "# Har folder ke andar images ko read karo\n",
    "for idx, category in enumerate(categories):\n",
    "    category_path = os.path.join(dataset_folder, category)\n",
    "    for img_name in os.listdir(category_path):\n",
    "        img_path = os.path.join(category_path, img_name)\n",
    "        try:\n",
    "            img = cv2.imread(img_path)\n",
    "            img = cv2.resize(img, (64, 64))  # Resize for consistency\n",
    "            data.append(img)\n",
    "            labels.append(idx)\n",
    "        except:\n",
    "            print(f\"Error reading {img_path}\")\n"
   ]
  },
  {
   "cell_type": "code",
   "execution_count": 15,
   "id": "a054326f",
   "metadata": {},
   "outputs": [
    {
     "name": "stdout",
     "output_type": "stream",
     "text": [
      "Requirement already satisfied: opencv-python in c:\\users\\admin\\appdata\\local\\programs\\python\\python310\\lib\\site-packages (4.11.0.86)\n",
      "Requirement already satisfied: numpy>=1.17.0 in c:\\users\\admin\\appdata\\local\\programs\\python\\python310\\lib\\site-packages (from opencv-python) (2.1.3)\n",
      "Note: you may need to restart the kernel to use updated packages.\n"
     ]
    },
    {
     "name": "stderr",
     "output_type": "stream",
     "text": [
      "\n",
      "[notice] A new release of pip is available: 23.0.1 -> 25.1.1\n",
      "[notice] To update, run: python.exe -m pip install --upgrade pip\n"
     ]
    }
   ],
   "source": [
    "pip install opencv-python\n"
   ]
  },
  {
   "cell_type": "code",
   "execution_count": 16,
   "id": "10372637",
   "metadata": {},
   "outputs": [],
   "source": [
    "import cv2"
   ]
  },
  {
   "cell_type": "code",
   "execution_count": 17,
   "id": "f2fbf529",
   "metadata": {},
   "outputs": [
    {
     "name": "stdout",
     "output_type": "stream",
     "text": [
      "Error processing dataset\\biodegradable\\animal waste.jpg: OpenCV(4.11.0) :-1: error: (-5:Bad argument) in function 'resize'\n",
      "> Overload resolution failed:\n",
      ">  - Can't parse 'dsize'. Sequence item with index 0 has a wrong type\n",
      ">  - Can't parse 'dsize'. Sequence item with index 0 has a wrong type\n",
      "\n",
      "Error processing dataset\\biodegradable\\apple core.jpg: OpenCV(4.11.0) :-1: error: (-5:Bad argument) in function 'resize'\n",
      "> Overload resolution failed:\n",
      ">  - Can't parse 'dsize'. Sequence item with index 0 has a wrong type\n",
      ">  - Can't parse 'dsize'. Sequence item with index 0 has a wrong type\n",
      "\n",
      "Error processing dataset\\biodegradable\\banana peel.jpg: OpenCV(4.11.0) :-1: error: (-5:Bad argument) in function 'resize'\n",
      "> Overload resolution failed:\n",
      ">  - Can't parse 'dsize'. Sequence item with index 0 has a wrong type\n",
      ">  - Can't parse 'dsize'. Sequence item with index 0 has a wrong type\n",
      "\n",
      "Error processing dataset\\biodegradable\\broken_twigs.webp: OpenCV(4.11.0) :-1: error: (-5:Bad argument) in function 'resize'\n",
      "> Overload resolution failed:\n",
      ">  - Can't parse 'dsize'. Sequence item with index 0 has a wrong type\n",
      ">  - Can't parse 'dsize'. Sequence item with index 0 has a wrong type\n",
      "\n",
      "Error processing dataset\\biodegradable\\cabbage.jpg: OpenCV(4.11.0) :-1: error: (-5:Bad argument) in function 'resize'\n",
      "> Overload resolution failed:\n",
      ">  - Can't parse 'dsize'. Sequence item with index 0 has a wrong type\n",
      ">  - Can't parse 'dsize'. Sequence item with index 0 has a wrong type\n",
      "\n",
      "Error processing dataset\\biodegradable\\clothes.jpg: OpenCV(4.11.0) :-1: error: (-5:Bad argument) in function 'resize'\n",
      "> Overload resolution failed:\n",
      ">  - Can't parse 'dsize'. Sequence item with index 0 has a wrong type\n",
      ">  - Can't parse 'dsize'. Sequence item with index 0 has a wrong type\n",
      "\n",
      "Error processing dataset\\biodegradable\\corn_husk.jpg: OpenCV(4.11.0) :-1: error: (-5:Bad argument) in function 'resize'\n",
      "> Overload resolution failed:\n",
      ">  - Can't parse 'dsize'. Sequence item with index 0 has a wrong type\n",
      ">  - Can't parse 'dsize'. Sequence item with index 0 has a wrong type\n",
      "\n",
      "Error processing dataset\\biodegradable\\dry_leaves.jpg: OpenCV(4.11.0) :-1: error: (-5:Bad argument) in function 'resize'\n",
      "> Overload resolution failed:\n",
      ">  - Can't parse 'dsize'. Sequence item with index 0 has a wrong type\n",
      ">  - Can't parse 'dsize'. Sequence item with index 0 has a wrong type\n",
      "\n",
      "Error processing dataset\\biodegradable\\egg_shell.jpg: OpenCV(4.11.0) :-1: error: (-5:Bad argument) in function 'resize'\n",
      "> Overload resolution failed:\n",
      ">  - Can't parse 'dsize'. Sequence item with index 0 has a wrong type\n",
      ">  - Can't parse 'dsize'. Sequence item with index 0 has a wrong type\n",
      "\n",
      "Error processing dataset\\biodegradable\\fennel_leaves.jpg: OpenCV(4.11.0) :-1: error: (-5:Bad argument) in function 'resize'\n",
      "> Overload resolution failed:\n",
      ">  - Can't parse 'dsize'. Sequence item with index 0 has a wrong type\n",
      ">  - Can't parse 'dsize'. Sequence item with index 0 has a wrong type\n",
      "\n",
      "Error processing dataset\\biodegradable\\fish_bones.jpg: OpenCV(4.11.0) :-1: error: (-5:Bad argument) in function 'resize'\n",
      "> Overload resolution failed:\n",
      ">  - Can't parse 'dsize'. Sequence item with index 0 has a wrong type\n",
      ">  - Can't parse 'dsize'. Sequence item with index 0 has a wrong type\n",
      "\n",
      "Error processing dataset\\biodegradable\\food waste.jpg: OpenCV(4.11.0) :-1: error: (-5:Bad argument) in function 'resize'\n",
      "> Overload resolution failed:\n",
      ">  - Can't parse 'dsize'. Sequence item with index 0 has a wrong type\n",
      ">  - Can't parse 'dsize'. Sequence item with index 0 has a wrong type\n",
      "\n",
      "Error processing dataset\\biodegradable\\green_chilli.jpg: OpenCV(4.11.0) :-1: error: (-5:Bad argument) in function 'resize'\n",
      "> Overload resolution failed:\n",
      ">  - Can't parse 'dsize'. Sequence item with index 0 has a wrong type\n",
      ">  - Can't parse 'dsize'. Sequence item with index 0 has a wrong type\n",
      "\n",
      "Error processing dataset\\biodegradable\\leaves.jpg: OpenCV(4.11.0) :-1: error: (-5:Bad argument) in function 'resize'\n",
      "> Overload resolution failed:\n",
      ">  - Can't parse 'dsize'. Sequence item with index 0 has a wrong type\n",
      ">  - Can't parse 'dsize'. Sequence item with index 0 has a wrong type\n",
      "\n",
      "Error processing dataset\\biodegradable\\lemon_peel.jpg: OpenCV(4.11.0) :-1: error: (-5:Bad argument) in function 'resize'\n",
      "> Overload resolution failed:\n",
      ">  - Can't parse 'dsize'. Sequence item with index 0 has a wrong type\n",
      ">  - Can't parse 'dsize'. Sequence item with index 0 has a wrong type\n",
      "\n",
      "Error processing dataset\\biodegradable\\mint_leaves.jpg: OpenCV(4.11.0) :-1: error: (-5:Bad argument) in function 'resize'\n",
      "> Overload resolution failed:\n",
      ">  - Can't parse 'dsize'. Sequence item with index 0 has a wrong type\n",
      ">  - Can't parse 'dsize'. Sequence item with index 0 has a wrong type\n",
      "\n",
      "Error processing dataset\\biodegradable\\onion_peels.jpg: OpenCV(4.11.0) :-1: error: (-5:Bad argument) in function 'resize'\n",
      "> Overload resolution failed:\n",
      ">  - Can't parse 'dsize'. Sequence item with index 0 has a wrong type\n",
      ">  - Can't parse 'dsize'. Sequence item with index 0 has a wrong type\n",
      "\n",
      "Error processing dataset\\biodegradable\\orange_peel.jpg: OpenCV(4.11.0) :-1: error: (-5:Bad argument) in function 'resize'\n",
      "> Overload resolution failed:\n",
      ">  - Can't parse 'dsize'. Sequence item with index 0 has a wrong type\n",
      ">  - Can't parse 'dsize'. Sequence item with index 0 has a wrong type\n",
      "\n",
      "Error processing dataset\\biodegradable\\paper.jpg: OpenCV(4.11.0) :-1: error: (-5:Bad argument) in function 'resize'\n",
      "> Overload resolution failed:\n",
      ">  - Can't parse 'dsize'. Sequence item with index 0 has a wrong type\n",
      ">  - Can't parse 'dsize'. Sequence item with index 0 has a wrong type\n",
      "\n",
      "Error processing dataset\\biodegradable\\peanut_shell.jpg: OpenCV(4.11.0) :-1: error: (-5:Bad argument) in function 'resize'\n",
      "> Overload resolution failed:\n",
      ">  - Can't parse 'dsize'. Sequence item with index 0 has a wrong type\n",
      ">  - Can't parse 'dsize'. Sequence item with index 0 has a wrong type\n",
      "\n",
      "Error processing dataset\\biodegradable\\potato_peel.jpg: OpenCV(4.11.0) :-1: error: (-5:Bad argument) in function 'resize'\n",
      "> Overload resolution failed:\n",
      ">  - Can't parse 'dsize'. Sequence item with index 0 has a wrong type\n",
      ">  - Can't parse 'dsize'. Sequence item with index 0 has a wrong type\n",
      "\n",
      "Error processing dataset\\biodegradable\\rice_straw.jpg: OpenCV(4.11.0) :-1: error: (-5:Bad argument) in function 'resize'\n",
      "> Overload resolution failed:\n",
      ">  - Can't parse 'dsize'. Sequence item with index 0 has a wrong type\n",
      ">  - Can't parse 'dsize'. Sequence item with index 0 has a wrong type\n",
      "\n",
      "Error processing dataset\\biodegradable\\rotten_fruits.jpg: OpenCV(4.11.0) :-1: error: (-5:Bad argument) in function 'resize'\n",
      "> Overload resolution failed:\n",
      ">  - Can't parse 'dsize'. Sequence item with index 0 has a wrong type\n",
      ">  - Can't parse 'dsize'. Sequence item with index 0 has a wrong type\n",
      "\n",
      "Error processing dataset\\biodegradable\\stale_bread.jpg: OpenCV(4.11.0) :-1: error: (-5:Bad argument) in function 'resize'\n",
      "> Overload resolution failed:\n",
      ">  - Can't parse 'dsize'. Sequence item with index 0 has a wrong type\n",
      ">  - Can't parse 'dsize'. Sequence item with index 0 has a wrong type\n",
      "\n",
      "Error processing dataset\\biodegradable\\sugarcane.jpg: OpenCV(4.11.0) :-1: error: (-5:Bad argument) in function 'resize'\n",
      "> Overload resolution failed:\n",
      ">  - Can't parse 'dsize'. Sequence item with index 0 has a wrong type\n",
      ">  - Can't parse 'dsize'. Sequence item with index 0 has a wrong type\n",
      "\n",
      "Error processing dataset\\biodegradable\\tomato.jpg: OpenCV(4.11.0) :-1: error: (-5:Bad argument) in function 'resize'\n",
      "> Overload resolution failed:\n",
      ">  - Can't parse 'dsize'. Sequence item with index 0 has a wrong type\n",
      ">  - Can't parse 'dsize'. Sequence item with index 0 has a wrong type\n",
      "\n",
      "Error processing dataset\\biodegradable\\vegetable scraps.jpg: OpenCV(4.11.0) :-1: error: (-5:Bad argument) in function 'resize'\n",
      "> Overload resolution failed:\n",
      ">  - Can't parse 'dsize'. Sequence item with index 0 has a wrong type\n",
      ">  - Can't parse 'dsize'. Sequence item with index 0 has a wrong type\n",
      "\n",
      "Skipped (can't read): dataset\\non_biodegradable\\battery.avif\n",
      "Error processing dataset\\non_biodegradable\\broken_charger.jpg: OpenCV(4.11.0) :-1: error: (-5:Bad argument) in function 'resize'\n",
      "> Overload resolution failed:\n",
      ">  - Can't parse 'dsize'. Sequence item with index 0 has a wrong type\n",
      ">  - Can't parse 'dsize'. Sequence item with index 0 has a wrong type\n",
      "\n",
      "Error processing dataset\\non_biodegradable\\CD_player.jpg: OpenCV(4.11.0) :-1: error: (-5:Bad argument) in function 'resize'\n",
      "> Overload resolution failed:\n",
      ">  - Can't parse 'dsize'. Sequence item with index 0 has a wrong type\n",
      ">  - Can't parse 'dsize'. Sequence item with index 0 has a wrong type\n",
      "\n",
      "Error processing dataset\\non_biodegradable\\CFL_bulb.jpg: OpenCV(4.11.0) :-1: error: (-5:Bad argument) in function 'resize'\n",
      "> Overload resolution failed:\n",
      ">  - Can't parse 'dsize'. Sequence item with index 0 has a wrong type\n",
      ">  - Can't parse 'dsize'. Sequence item with index 0 has a wrong type\n",
      "\n",
      "Error processing dataset\\non_biodegradable\\chips_packet.jpg: OpenCV(4.11.0) :-1: error: (-5:Bad argument) in function 'resize'\n",
      "> Overload resolution failed:\n",
      ">  - Can't parse 'dsize'. Sequence item with index 0 has a wrong type\n",
      ">  - Can't parse 'dsize'. Sequence item with index 0 has a wrong type\n",
      "\n",
      "Error processing dataset\\non_biodegradable\\electronic waste.jpg: OpenCV(4.11.0) :-1: error: (-5:Bad argument) in function 'resize'\n",
      "> Overload resolution failed:\n",
      ">  - Can't parse 'dsize'. Sequence item with index 0 has a wrong type\n",
      ">  - Can't parse 'dsize'. Sequence item with index 0 has a wrong type\n",
      "\n",
      "Error processing dataset\\non_biodegradable\\glass.jpg: OpenCV(4.11.0) :-1: error: (-5:Bad argument) in function 'resize'\n",
      "> Overload resolution failed:\n",
      ">  - Can't parse 'dsize'. Sequence item with index 0 has a wrong type\n",
      ">  - Can't parse 'dsize'. Sequence item with index 0 has a wrong type\n",
      "\n",
      "Error processing dataset\\non_biodegradable\\image.jpg: OpenCV(4.11.0) :-1: error: (-5:Bad argument) in function 'resize'\n",
      "> Overload resolution failed:\n",
      ">  - Can't parse 'dsize'. Sequence item with index 0 has a wrong type\n",
      ">  - Can't parse 'dsize'. Sequence item with index 0 has a wrong type\n",
      "\n",
      "Error processing dataset\\non_biodegradable\\metal can.jpg: OpenCV(4.11.0) :-1: error: (-5:Bad argument) in function 'resize'\n",
      "> Overload resolution failed:\n",
      ">  - Can't parse 'dsize'. Sequence item with index 0 has a wrong type\n",
      ">  - Can't parse 'dsize'. Sequence item with index 0 has a wrong type\n",
      "\n",
      "Error processing dataset\\non_biodegradable\\password - photo.jpg: OpenCV(4.11.0) :-1: error: (-5:Bad argument) in function 'resize'\n",
      "> Overload resolution failed:\n",
      ">  - Can't parse 'dsize'. Sequence item with index 0 has a wrong type\n",
      ">  - Can't parse 'dsize'. Sequence item with index 0 has a wrong type\n",
      "\n",
      "Error processing dataset\\non_biodegradable\\plastic bag.jpg: OpenCV(4.11.0) :-1: error: (-5:Bad argument) in function 'resize'\n",
      "> Overload resolution failed:\n",
      ">  - Can't parse 'dsize'. Sequence item with index 0 has a wrong type\n",
      ">  - Can't parse 'dsize'. Sequence item with index 0 has a wrong type\n",
      "\n",
      "Error processing dataset\\non_biodegradable\\plastic bottel.jpg: OpenCV(4.11.0) :-1: error: (-5:Bad argument) in function 'resize'\n",
      "> Overload resolution failed:\n",
      ">  - Can't parse 'dsize'. Sequence item with index 0 has a wrong type\n",
      ">  - Can't parse 'dsize'. Sequence item with index 0 has a wrong type\n",
      "\n",
      "Error processing dataset\\non_biodegradable\\plastic cup.jpg: OpenCV(4.11.0) :-1: error: (-5:Bad argument) in function 'resize'\n",
      "> Overload resolution failed:\n",
      ">  - Can't parse 'dsize'. Sequence item with index 0 has a wrong type\n",
      ">  - Can't parse 'dsize'. Sequence item with index 0 has a wrong type\n",
      "\n",
      "Error processing dataset\\non_biodegradable\\plastic_spoon.jpg: OpenCV(4.11.0) :-1: error: (-5:Bad argument) in function 'resize'\n",
      "> Overload resolution failed:\n",
      ">  - Can't parse 'dsize'. Sequence item with index 0 has a wrong type\n",
      ">  - Can't parse 'dsize'. Sequence item with index 0 has a wrong type\n",
      "\n",
      "Error processing dataset\\non_biodegradable\\PVC_pipe.jpg: OpenCV(4.11.0) :-1: error: (-5:Bad argument) in function 'resize'\n",
      "> Overload resolution failed:\n",
      ">  - Can't parse 'dsize'. Sequence item with index 0 has a wrong type\n",
      ">  - Can't parse 'dsize'. Sequence item with index 0 has a wrong type\n",
      "\n",
      "Error processing dataset\\non_biodegradable\\remote_control.jpg: OpenCV(4.11.0) :-1: error: (-5:Bad argument) in function 'resize'\n",
      "> Overload resolution failed:\n",
      ">  - Can't parse 'dsize'. Sequence item with index 0 has a wrong type\n",
      ">  - Can't parse 'dsize'. Sequence item with index 0 has a wrong type\n",
      "\n",
      "Error processing dataset\\non_biodegradable\\rubber_ball.jpg: OpenCV(4.11.0) :-1: error: (-5:Bad argument) in function 'resize'\n",
      "> Overload resolution failed:\n",
      ">  - Can't parse 'dsize'. Sequence item with index 0 has a wrong type\n",
      ">  - Can't parse 'dsize'. Sequence item with index 0 has a wrong type\n",
      "\n",
      "Error processing dataset\\non_biodegradable\\shampoo_bottle.jpg: OpenCV(4.11.0) :-1: error: (-5:Bad argument) in function 'resize'\n",
      "> Overload resolution failed:\n",
      ">  - Can't parse 'dsize'. Sequence item with index 0 has a wrong type\n",
      ">  - Can't parse 'dsize'. Sequence item with index 0 has a wrong type\n",
      "\n",
      "Error processing dataset\\non_biodegradable\\thermocol_plate.jpg: OpenCV(4.11.0) :-1: error: (-5:Bad argument) in function 'resize'\n",
      "> Overload resolution failed:\n",
      ">  - Can't parse 'dsize'. Sequence item with index 0 has a wrong type\n",
      ">  - Can't parse 'dsize'. Sequence item with index 0 has a wrong type\n",
      "\n",
      "Error processing dataset\\non_biodegradable\\toothpaste_tube.jpg: OpenCV(4.11.0) :-1: error: (-5:Bad argument) in function 'resize'\n",
      "> Overload resolution failed:\n",
      ">  - Can't parse 'dsize'. Sequence item with index 0 has a wrong type\n",
      ">  - Can't parse 'dsize'. Sequence item with index 0 has a wrong type\n",
      "\n",
      "Error processing dataset\\non_biodegradable\\torch.jpg: OpenCV(4.11.0) :-1: error: (-5:Bad argument) in function 'resize'\n",
      "> Overload resolution failed:\n",
      ">  - Can't parse 'dsize'. Sequence item with index 0 has a wrong type\n",
      ">  - Can't parse 'dsize'. Sequence item with index 0 has a wrong type\n",
      "\n",
      "Error processing dataset\\non_biodegradable\\tube_light.jpg: OpenCV(4.11.0) :-1: error: (-5:Bad argument) in function 'resize'\n",
      "> Overload resolution failed:\n",
      ">  - Can't parse 'dsize'. Sequence item with index 0 has a wrong type\n",
      ">  - Can't parse 'dsize'. Sequence item with index 0 has a wrong type\n",
      "\n",
      "Error processing dataset\\non_biodegradable\\wires.jpg: OpenCV(4.11.0) :-1: error: (-5:Bad argument) in function 'resize'\n",
      "> Overload resolution failed:\n",
      ">  - Can't parse 'dsize'. Sequence item with index 0 has a wrong type\n",
      ">  - Can't parse 'dsize'. Sequence item with index 0 has a wrong type\n",
      "\n"
     ]
    },
    {
     "ename": "NotADirectoryError",
     "evalue": "[WinError 267] The directory name is invalid: 'dataset\\\\test_image.jpg'",
     "output_type": "error",
     "traceback": [
      "\u001b[1;31m---------------------------------------------------------------------------\u001b[0m",
      "\u001b[1;31mNotADirectoryError\u001b[0m                        Traceback (most recent call last)",
      "Cell \u001b[1;32mIn[17], line 5\u001b[0m\n\u001b[0;32m      2\u001b[0m folder_path \u001b[38;5;241m=\u001b[39m os\u001b[38;5;241m.\u001b[39mpath\u001b[38;5;241m.\u001b[39mjoin(dataset_path, category)\n\u001b[0;32m      3\u001b[0m class_num \u001b[38;5;241m=\u001b[39m categories\u001b[38;5;241m.\u001b[39mindex(category)\n\u001b[1;32m----> 5\u001b[0m \u001b[38;5;28;01mfor\u001b[39;00m img \u001b[38;5;129;01min\u001b[39;00m \u001b[43mos\u001b[49m\u001b[38;5;241;43m.\u001b[39;49m\u001b[43mlistdir\u001b[49m\u001b[43m(\u001b[49m\u001b[43mfolder_path\u001b[49m\u001b[43m)\u001b[49m:\n\u001b[0;32m      6\u001b[0m     \u001b[38;5;28;01mtry\u001b[39;00m:\n\u001b[0;32m      7\u001b[0m         img_path \u001b[38;5;241m=\u001b[39m os\u001b[38;5;241m.\u001b[39mpath\u001b[38;5;241m.\u001b[39mjoin(folder_path, img)\n",
      "\u001b[1;31mNotADirectoryError\u001b[0m: [WinError 267] The directory name is invalid: 'dataset\\\\test_image.jpg'"
     ]
    }
   ],
   "source": [
    "for category in categories:\n",
    "    folder_path = os.path.join(dataset_path, category)\n",
    "    class_num = categories.index(category)\n",
    "\n",
    "    for img in os.listdir(folder_path):\n",
    "        try:\n",
    "            img_path = os.path.join(folder_path, img)\n",
    "            image = cv2.imread(img_path)\n",
    "            if image is None:\n",
    "                print(f\"Skipped (can't read): {img_path}\")\n",
    "                continue\n",
    "            resized = cv2.resize(image, (img_size, img_size))\n",
    "            data.append(resized)\n",
    "            labels.append(class_num)\n",
    "        except Exception as e:\n",
    "            print(f\"Error processing {img_path}: {e}\")"
   ]
  },
  {
   "cell_type": "code",
   "execution_count": 19,
   "id": "67539ebc",
   "metadata": {},
   "outputs": [
    {
     "name": "stdout",
     "output_type": "stream",
     "text": [
      "Training samples: 39\n",
      "Testing samples: 10\n"
     ]
    }
   ],
   "source": [
    "from sklearn.model_selection import train_test_split\n",
    "import numpy as np\n",
    "\n",
    "# Convert lists to numpy arrays\n",
    "X = np.array(data)\n",
    "y = np.array(labels)\n",
    "\n",
    "# Normalize pixel values (0 to 1)\n",
    "X = X / 255.0\n",
    "\n",
    "# Split the dataset (80% training, 20% testing)\n",
    "X_train, X_test, y_train, y_test = train_test_split(X, y, test_size=0.2, random_state=42)\n",
    "\n",
    "print(\"Training samples:\", len(X_train))\n",
    "print(\"Testing samples:\", len(X_test))"
   ]
  },
  {
   "cell_type": "code",
   "execution_count": 20,
   "id": "3212a9d2",
   "metadata": {},
   "outputs": [
    {
     "name": "stderr",
     "output_type": "stream",
     "text": [
      "c:\\Users\\ADMIN\\AppData\\Local\\Programs\\Python\\Python310\\lib\\site-packages\\keras\\src\\layers\\convolutional\\base_conv.py:113: UserWarning: Do not pass an `input_shape`/`input_dim` argument to a layer. When using Sequential models, prefer using an `Input(shape)` object as the first layer in the model instead.\n",
      "  super().__init__(activity_regularizer=activity_regularizer, **kwargs)\n"
     ]
    },
    {
     "data": {
      "text/html": [
       "<pre style=\"white-space:pre;overflow-x:auto;line-height:normal;font-family:Menlo,'DejaVu Sans Mono',consolas,'Courier New',monospace\"><span style=\"font-weight: bold\">Model: \"sequential\"</span>\n",
       "</pre>\n"
      ],
      "text/plain": [
       "\u001b[1mModel: \"sequential\"\u001b[0m\n"
      ]
     },
     "metadata": {},
     "output_type": "display_data"
    },
    {
     "data": {
      "text/html": [
       "<pre style=\"white-space:pre;overflow-x:auto;line-height:normal;font-family:Menlo,'DejaVu Sans Mono',consolas,'Courier New',monospace\">┏━━━━━━━━━━━━━━━━━━━━━━━━━━━━━━━━━┳━━━━━━━━━━━━━━━━━━━━━━━━┳━━━━━━━━━━━━━━━┓\n",
       "┃<span style=\"font-weight: bold\"> Layer (type)                    </span>┃<span style=\"font-weight: bold\"> Output Shape           </span>┃<span style=\"font-weight: bold\">       Param # </span>┃\n",
       "┡━━━━━━━━━━━━━━━━━━━━━━━━━━━━━━━━━╇━━━━━━━━━━━━━━━━━━━━━━━━╇━━━━━━━━━━━━━━━┩\n",
       "│ conv2d (<span style=\"color: #0087ff; text-decoration-color: #0087ff\">Conv2D</span>)                 │ (<span style=\"color: #00d7ff; text-decoration-color: #00d7ff\">None</span>, <span style=\"color: #00af00; text-decoration-color: #00af00\">62</span>, <span style=\"color: #00af00; text-decoration-color: #00af00\">62</span>, <span style=\"color: #00af00; text-decoration-color: #00af00\">32</span>)     │           <span style=\"color: #00af00; text-decoration-color: #00af00\">896</span> │\n",
       "├─────────────────────────────────┼────────────────────────┼───────────────┤\n",
       "│ max_pooling2d (<span style=\"color: #0087ff; text-decoration-color: #0087ff\">MaxPooling2D</span>)    │ (<span style=\"color: #00d7ff; text-decoration-color: #00d7ff\">None</span>, <span style=\"color: #00af00; text-decoration-color: #00af00\">31</span>, <span style=\"color: #00af00; text-decoration-color: #00af00\">31</span>, <span style=\"color: #00af00; text-decoration-color: #00af00\">32</span>)     │             <span style=\"color: #00af00; text-decoration-color: #00af00\">0</span> │\n",
       "├─────────────────────────────────┼────────────────────────┼───────────────┤\n",
       "│ conv2d_1 (<span style=\"color: #0087ff; text-decoration-color: #0087ff\">Conv2D</span>)               │ (<span style=\"color: #00d7ff; text-decoration-color: #00d7ff\">None</span>, <span style=\"color: #00af00; text-decoration-color: #00af00\">29</span>, <span style=\"color: #00af00; text-decoration-color: #00af00\">29</span>, <span style=\"color: #00af00; text-decoration-color: #00af00\">64</span>)     │        <span style=\"color: #00af00; text-decoration-color: #00af00\">18,496</span> │\n",
       "├─────────────────────────────────┼────────────────────────┼───────────────┤\n",
       "│ max_pooling2d_1 (<span style=\"color: #0087ff; text-decoration-color: #0087ff\">MaxPooling2D</span>)  │ (<span style=\"color: #00d7ff; text-decoration-color: #00d7ff\">None</span>, <span style=\"color: #00af00; text-decoration-color: #00af00\">14</span>, <span style=\"color: #00af00; text-decoration-color: #00af00\">14</span>, <span style=\"color: #00af00; text-decoration-color: #00af00\">64</span>)     │             <span style=\"color: #00af00; text-decoration-color: #00af00\">0</span> │\n",
       "├─────────────────────────────────┼────────────────────────┼───────────────┤\n",
       "│ flatten (<span style=\"color: #0087ff; text-decoration-color: #0087ff\">Flatten</span>)               │ (<span style=\"color: #00d7ff; text-decoration-color: #00d7ff\">None</span>, <span style=\"color: #00af00; text-decoration-color: #00af00\">12544</span>)          │             <span style=\"color: #00af00; text-decoration-color: #00af00\">0</span> │\n",
       "├─────────────────────────────────┼────────────────────────┼───────────────┤\n",
       "│ dense (<span style=\"color: #0087ff; text-decoration-color: #0087ff\">Dense</span>)                   │ (<span style=\"color: #00d7ff; text-decoration-color: #00d7ff\">None</span>, <span style=\"color: #00af00; text-decoration-color: #00af00\">64</span>)             │       <span style=\"color: #00af00; text-decoration-color: #00af00\">802,880</span> │\n",
       "├─────────────────────────────────┼────────────────────────┼───────────────┤\n",
       "│ dense_1 (<span style=\"color: #0087ff; text-decoration-color: #0087ff\">Dense</span>)                 │ (<span style=\"color: #00d7ff; text-decoration-color: #00d7ff\">None</span>, <span style=\"color: #00af00; text-decoration-color: #00af00\">1</span>)              │            <span style=\"color: #00af00; text-decoration-color: #00af00\">65</span> │\n",
       "└─────────────────────────────────┴────────────────────────┴───────────────┘\n",
       "</pre>\n"
      ],
      "text/plain": [
       "┏━━━━━━━━━━━━━━━━━━━━━━━━━━━━━━━━━┳━━━━━━━━━━━━━━━━━━━━━━━━┳━━━━━━━━━━━━━━━┓\n",
       "┃\u001b[1m \u001b[0m\u001b[1mLayer (type)                   \u001b[0m\u001b[1m \u001b[0m┃\u001b[1m \u001b[0m\u001b[1mOutput Shape          \u001b[0m\u001b[1m \u001b[0m┃\u001b[1m \u001b[0m\u001b[1m      Param #\u001b[0m\u001b[1m \u001b[0m┃\n",
       "┡━━━━━━━━━━━━━━━━━━━━━━━━━━━━━━━━━╇━━━━━━━━━━━━━━━━━━━━━━━━╇━━━━━━━━━━━━━━━┩\n",
       "│ conv2d (\u001b[38;5;33mConv2D\u001b[0m)                 │ (\u001b[38;5;45mNone\u001b[0m, \u001b[38;5;34m62\u001b[0m, \u001b[38;5;34m62\u001b[0m, \u001b[38;5;34m32\u001b[0m)     │           \u001b[38;5;34m896\u001b[0m │\n",
       "├─────────────────────────────────┼────────────────────────┼───────────────┤\n",
       "│ max_pooling2d (\u001b[38;5;33mMaxPooling2D\u001b[0m)    │ (\u001b[38;5;45mNone\u001b[0m, \u001b[38;5;34m31\u001b[0m, \u001b[38;5;34m31\u001b[0m, \u001b[38;5;34m32\u001b[0m)     │             \u001b[38;5;34m0\u001b[0m │\n",
       "├─────────────────────────────────┼────────────────────────┼───────────────┤\n",
       "│ conv2d_1 (\u001b[38;5;33mConv2D\u001b[0m)               │ (\u001b[38;5;45mNone\u001b[0m, \u001b[38;5;34m29\u001b[0m, \u001b[38;5;34m29\u001b[0m, \u001b[38;5;34m64\u001b[0m)     │        \u001b[38;5;34m18,496\u001b[0m │\n",
       "├─────────────────────────────────┼────────────────────────┼───────────────┤\n",
       "│ max_pooling2d_1 (\u001b[38;5;33mMaxPooling2D\u001b[0m)  │ (\u001b[38;5;45mNone\u001b[0m, \u001b[38;5;34m14\u001b[0m, \u001b[38;5;34m14\u001b[0m, \u001b[38;5;34m64\u001b[0m)     │             \u001b[38;5;34m0\u001b[0m │\n",
       "├─────────────────────────────────┼────────────────────────┼───────────────┤\n",
       "│ flatten (\u001b[38;5;33mFlatten\u001b[0m)               │ (\u001b[38;5;45mNone\u001b[0m, \u001b[38;5;34m12544\u001b[0m)          │             \u001b[38;5;34m0\u001b[0m │\n",
       "├─────────────────────────────────┼────────────────────────┼───────────────┤\n",
       "│ dense (\u001b[38;5;33mDense\u001b[0m)                   │ (\u001b[38;5;45mNone\u001b[0m, \u001b[38;5;34m64\u001b[0m)             │       \u001b[38;5;34m802,880\u001b[0m │\n",
       "├─────────────────────────────────┼────────────────────────┼───────────────┤\n",
       "│ dense_1 (\u001b[38;5;33mDense\u001b[0m)                 │ (\u001b[38;5;45mNone\u001b[0m, \u001b[38;5;34m1\u001b[0m)              │            \u001b[38;5;34m65\u001b[0m │\n",
       "└─────────────────────────────────┴────────────────────────┴───────────────┘\n"
      ]
     },
     "metadata": {},
     "output_type": "display_data"
    },
    {
     "data": {
      "text/html": [
       "<pre style=\"white-space:pre;overflow-x:auto;line-height:normal;font-family:Menlo,'DejaVu Sans Mono',consolas,'Courier New',monospace\"><span style=\"font-weight: bold\"> Total params: </span><span style=\"color: #00af00; text-decoration-color: #00af00\">822,337</span> (3.14 MB)\n",
       "</pre>\n"
      ],
      "text/plain": [
       "\u001b[1m Total params: \u001b[0m\u001b[38;5;34m822,337\u001b[0m (3.14 MB)\n"
      ]
     },
     "metadata": {},
     "output_type": "display_data"
    },
    {
     "data": {
      "text/html": [
       "<pre style=\"white-space:pre;overflow-x:auto;line-height:normal;font-family:Menlo,'DejaVu Sans Mono',consolas,'Courier New',monospace\"><span style=\"font-weight: bold\"> Trainable params: </span><span style=\"color: #00af00; text-decoration-color: #00af00\">822,337</span> (3.14 MB)\n",
       "</pre>\n"
      ],
      "text/plain": [
       "\u001b[1m Trainable params: \u001b[0m\u001b[38;5;34m822,337\u001b[0m (3.14 MB)\n"
      ]
     },
     "metadata": {},
     "output_type": "display_data"
    },
    {
     "data": {
      "text/html": [
       "<pre style=\"white-space:pre;overflow-x:auto;line-height:normal;font-family:Menlo,'DejaVu Sans Mono',consolas,'Courier New',monospace\"><span style=\"font-weight: bold\"> Non-trainable params: </span><span style=\"color: #00af00; text-decoration-color: #00af00\">0</span> (0.00 B)\n",
       "</pre>\n"
      ],
      "text/plain": [
       "\u001b[1m Non-trainable params: \u001b[0m\u001b[38;5;34m0\u001b[0m (0.00 B)\n"
      ]
     },
     "metadata": {},
     "output_type": "display_data"
    }
   ],
   "source": [
    "from tensorflow.keras.models import Sequential\n",
    "from tensorflow.keras.layers import Conv2D, MaxPooling2D, Flatten, Dense\n",
    "\n",
    "# CNN model define karna\n",
    "model = Sequential([\n",
    "    Conv2D(32, (3, 3), activation='relu', input_shape=(64, 64, 3)),\n",
    "    MaxPooling2D(2, 2),\n",
    "    \n",
    "    Conv2D(64, (3, 3), activation='relu'),\n",
    "    MaxPooling2D(2, 2),\n",
    "    \n",
    "    Flatten(),\n",
    "    Dense(64, activation='relu'),\n",
    "    Dense(1, activation='sigmoid')  # 1 output neuron for binary classification\n",
    "])\n",
    "\n",
    "# Model compile karna\n",
    "model.compile(optimizer='adam', loss='binary_crossentropy', metrics=['accuracy'])\n",
    "\n",
    "# Model ka summary dekhna\n",
    "model.summary()"
   ]
  },
  {
   "cell_type": "code",
   "execution_count": 21,
   "id": "d643bd9c",
   "metadata": {},
   "outputs": [
    {
     "name": "stdout",
     "output_type": "stream",
     "text": [
      "Epoch 1/10\n",
      "\u001b[1m2/2\u001b[0m \u001b[32m━━━━━━━━━━━━━━━━━━━━\u001b[0m\u001b[37m\u001b[0m \u001b[1m2s\u001b[0m 323ms/step - accuracy: 0.5948 - loss: 0.8444 - val_accuracy: 0.5000 - val_loss: 0.6657\n",
      "Epoch 2/10\n",
      "\u001b[1m2/2\u001b[0m \u001b[32m━━━━━━━━━━━━━━━━━━━━\u001b[0m\u001b[37m\u001b[0m \u001b[1m0s\u001b[0m 152ms/step - accuracy: 0.8699 - loss: 0.6686 - val_accuracy: 0.5000 - val_loss: 0.7200\n",
      "Epoch 3/10\n",
      "\u001b[1m2/2\u001b[0m \u001b[32m━━━━━━━━━━━━━━━━━━━━\u001b[0m\u001b[37m\u001b[0m \u001b[1m0s\u001b[0m 145ms/step - accuracy: 0.4573 - loss: 0.7367 - val_accuracy: 0.5000 - val_loss: 0.6785\n",
      "Epoch 4/10\n",
      "\u001b[1m2/2\u001b[0m \u001b[32m━━━━━━━━━━━━━━━━━━━━\u001b[0m\u001b[37m\u001b[0m \u001b[1m0s\u001b[0m 170ms/step - accuracy: 0.5048 - loss: 0.6614 - val_accuracy: 0.6000 - val_loss: 0.6790\n",
      "Epoch 5/10\n",
      "\u001b[1m2/2\u001b[0m \u001b[32m━━━━━━━━━━━━━━━━━━━━\u001b[0m\u001b[37m\u001b[0m \u001b[1m0s\u001b[0m 186ms/step - accuracy: 0.8178 - loss: 0.6203 - val_accuracy: 0.5000 - val_loss: 0.7017\n",
      "Epoch 6/10\n",
      "\u001b[1m2/2\u001b[0m \u001b[32m━━━━━━━━━━━━━━━━━━━━\u001b[0m\u001b[37m\u001b[0m \u001b[1m0s\u001b[0m 234ms/step - accuracy: 0.7286 - loss: 0.6062 - val_accuracy: 0.5000 - val_loss: 0.7028\n",
      "Epoch 7/10\n",
      "\u001b[1m2/2\u001b[0m \u001b[32m━━━━━━━━━━━━━━━━━━━━\u001b[0m\u001b[37m\u001b[0m \u001b[1m0s\u001b[0m 225ms/step - accuracy: 0.7353 - loss: 0.5830 - val_accuracy: 0.6000 - val_loss: 0.6530\n",
      "Epoch 8/10\n",
      "\u001b[1m2/2\u001b[0m \u001b[32m━━━━━━━━━━━━━━━━━━━━\u001b[0m\u001b[37m\u001b[0m \u001b[1m0s\u001b[0m 231ms/step - accuracy: 0.8833 - loss: 0.5487 - val_accuracy: 0.6000 - val_loss: 0.6329\n",
      "Epoch 9/10\n",
      "\u001b[1m2/2\u001b[0m \u001b[32m━━━━━━━━━━━━━━━━━━━━\u001b[0m\u001b[37m\u001b[0m \u001b[1m0s\u001b[0m 273ms/step - accuracy: 0.8558 - loss: 0.4804 - val_accuracy: 0.6000 - val_loss: 0.6565\n",
      "Epoch 10/10\n",
      "\u001b[1m2/2\u001b[0m \u001b[32m━━━━━━━━━━━━━━━━━━━━\u001b[0m\u001b[37m\u001b[0m \u001b[1m0s\u001b[0m 278ms/step - accuracy: 0.8624 - loss: 0.4071 - val_accuracy: 0.8000 - val_loss: 0.5617\n"
     ]
    }
   ],
   "source": [
    "# Model training\n",
    "history = model.fit(X_train, y_train, epochs=10, validation_data=(X_test, y_test))"
   ]
  },
  {
   "cell_type": "code",
   "execution_count": 22,
   "id": "e7aef145",
   "metadata": {},
   "outputs": [
    {
     "data": {
      "image/png": "[encoded data removed]",
      "text/plain": [
       "<Figure size 640x480 with 1 Axes>"
      ]
     },
     "metadata": {},
     "output_type": "display_data"
    },
    {
     "data": {
      "image/png": "[encoded data removed]",
      "text/plain": [
       "<Figure size 640x480 with 1 Axes>"
      ]
     },
     "metadata": {},
     "output_type": "display_data"
    }
   ],
   "source": [
    "import matplotlib.pyplot as plt\n",
    "\n",
    "# Accuracy Plot\n",
    "plt.plot(history.history['accuracy'], label='Training Accuracy')\n",
    "plt.plot(history.history['val_accuracy'], label='Validation Accuracy')\n",
    "plt.title('Accuracy')\n",
    "plt.xlabel('Epochs')\n",
    "plt.ylabel('Accuracy')\n",
    "plt.legend()\n",
    "plt.show()\n",
    "\n",
    "# Loss Plot\n",
    "plt.plot(history.history['loss'], label='Training Loss')\n",
    "plt.plot(history.history['val_loss'], label='Validation Loss')\n",
    "plt.title('Loss')\n",
    "plt.xlabel('Epochs')\n",
    "plt.ylabel('Loss')\n",
    "plt.legend()\n",
    "plt.show()"
   ]
  },
  {
   "cell_type": "code",
   "execution_count": 23,
   "id": "9bf55395",
   "metadata": {},
   "outputs": [
    {
     "name": "stdout",
     "output_type": "stream",
     "text": [
      "\u001b[1m1/1\u001b[0m \u001b[32m━━━━━━━━━━━━━━━━━━━━\u001b[0m\u001b[37m\u001b[0m \u001b[1m0s\u001b[0m 231ms/step\n",
      "Prediction: [[0.80494916]]\n"
     ]
    }
   ],
   "source": [
    "from tensorflow.keras.preprocessing import image\n",
    "import numpy as np\n",
    "\n",
    "# 1. Image ka path sahi likhna hai\n",
    "img_path = 'dataset/test_image.jpg'\n",
    "\n",
    "# 2. Image load karo aur size fix karo (64x64 agar training mein wahi size tha)\n",
    "img = image.load_img(img_path, target_size=(64, 64))\n",
    "\n",
    "# 3. Image ko numpy array mein convert karo\n",
    "img_array = image.img_to_array(img)\n",
    "\n",
    "# 4. Normalize karo (0-255 se 0-1)\n",
    "img_array = img_array / 255.0\n",
    "\n",
    "# 5. Batch dimension add karo (model ko batch chahiye hota hai)\n",
    "img_array = np.expand_dims(img_array, axis=0)\n",
    "\n",
    "# 6. Predict karo\n",
    "prediction = model.predict(img_array)\n",
    "print(\"Prediction:\", prediction)\n"
   ]
  },
  {
   "cell_type": "code",
   "execution_count": 24,
   "id": "854cc2b9",
   "metadata": {},
   "outputs": [
    {
     "name": "stdout",
     "output_type": "stream",
     "text": [
      "Biodegradable\n"
     ]
    }
   ],
   "source": [
    "predicted_class = np.argmax(prediction)\n",
    "if predicted_class == 0:\n",
    "    print(\"Biodegradable\")\n",
    "else:\n",
    "    print(\"Non-Biodegradable\")"
   ]
  },
  {
   "cell_type": "code",
   "execution_count": 25,
   "id": "1c674b05",
   "metadata": {},
   "outputs": [
    {
     "name": "stdout",
     "output_type": "stream",
     "text": [
      "\u001b[1m1/1\u001b[0m \u001b[32m━━━━━━━━━━━━━━━━━━━━\u001b[0m\u001b[37m\u001b[0m \u001b[1m0s\u001b[0m 140ms/step\n",
      "Prediction: [[0.80494916]]\n"
     ]
    }
   ],
   "source": [
    "prediction = model.predict(img_array)\n",
    "print(\"Prediction:\", prediction)"
   ]
  },
  {
   "cell_type": "code",
   "execution_count": 26,
   "id": "749b67a0",
   "metadata": {},
   "outputs": [
    {
     "name": "stdout",
     "output_type": "stream",
     "text": [
      "Predicted Class: Biodegradable\n"
     ]
    }
   ],
   "source": [
    "# Convert prediction to label\n",
    "if prediction[0][0] > 0.5:\n",
    "    print(\"Predicted Class: Biodegradable\")\n",
    "else:\n",
    "    print(\"Predicted Class: Non-Biodegradable\")\n"
   ]
  },
  {
   "cell_type": "code",
   "execution_count": 27,
   "id": "9389f3cf",
   "metadata": {},
   "outputs": [
    {
     "name": "stderr",
     "output_type": "stream",
     "text": [
      "WARNING:absl:You are saving your model as an HDF5 file via `model.save()` or `keras.saving.save_model(model)`. This file format is considered legacy. We recommend using instead the native Keras format, e.g. `model.save('my_model.keras')` or `keras.saving.save_model(model, 'my_model.keras')`. \n"
     ]
    }
   ],
   "source": [
    "model.save(\"garbage_classification_model.h5\")"
   ]
  },
  {
   "cell_type": "code",
   "execution_count": 28,
   "id": "c98472e7",
   "metadata": {},
   "outputs": [],
   "source": [
    "model.save(\"garbage_classification_model.keras\")"
   ]
  },
  {
   "cell_type": "code",
   "execution_count": 29,
   "id": "95fdd7ee",
   "metadata": {},
   "outputs": [
    {
     "name": "stderr",
     "output_type": "stream",
     "text": [
      "c:\\Users\\ADMIN\\AppData\\Local\\Programs\\Python\\Python310\\lib\\site-packages\\keras\\src\\saving\\saving_lib.py:802: UserWarning: Skipping variable loading for optimizer 'rmsprop', because it has 10 variables whereas the saved optimizer has 18 variables. \n",
      "  saveable.load_own_variables(weights_store.get(inner_path))\n"
     ]
    }
   ],
   "source": [
    "from tensorflow.keras.models import load_model\n",
    "model = load_model(\"garbage_classification_model.keras\")"
   ]
  },
  {
   "cell_type": "code",
   "execution_count": 30,
   "id": "d45ce904",
   "metadata": {},
   "outputs": [
    {
     "name": "stdout",
     "output_type": "stream",
     "text": [
      "\u001b[1m1/1\u001b[0m \u001b[32m━━━━━━━━━━━━━━━━━━━━\u001b[0m\u001b[37m\u001b[0m \u001b[1m0s\u001b[0m 357ms/step - accuracy: 0.8000 - loss: 0.5617\n",
      "Test Accuracy: 80.00%\n"
     ]
    }
   ],
   "source": [
    "loss, accuracy = model.evaluate(X_test, y_test)\n",
    "print(f\"Test Accuracy: {accuracy * 100:.2f}%\")"
   ]
  },
  {
   "cell_type": "code",
   "execution_count": 31,
   "id": "08265f65",
   "metadata": {},
   "outputs": [
    {
     "name": "stdout",
     "output_type": "stream",
     "text": [
      "\u001b[1m1/1\u001b[0m \u001b[32m━━━━━━━━━━━━━━━━━━━━\u001b[0m\u001b[37m\u001b[0m \u001b[1m0s\u001b[0m 100ms/step\n",
      "animal waste.jpg: Non-Biodegradable\n",
      "\u001b[1m1/1\u001b[0m \u001b[32m━━━━━━━━━━━━━━━━━━━━\u001b[0m\u001b[37m\u001b[0m \u001b[1m0s\u001b[0m 46ms/step\n",
      "apple core.jpg: Non-Biodegradable\n",
      "\u001b[1m1/1\u001b[0m \u001b[32m━━━━━━━━━━━━━━━━━━━━\u001b[0m\u001b[37m\u001b[0m \u001b[1m0s\u001b[0m 55ms/step\n",
      "banana peel.jpg: Non-Biodegradable\n",
      "\u001b[1m1/1\u001b[0m \u001b[32m━━━━━━━━━━━━━━━━━━━━\u001b[0m\u001b[37m\u001b[0m \u001b[1m0s\u001b[0m 53ms/step\n",
      "broken_twigs.webp: Non-Biodegradable\n",
      "\u001b[1m1/1\u001b[0m \u001b[32m━━━━━━━━━━━━━━━━━━━━\u001b[0m\u001b[37m\u001b[0m \u001b[1m0s\u001b[0m 46ms/step\n",
      "cabbage.jpg: Non-Biodegradable\n",
      "\u001b[1m1/1\u001b[0m \u001b[32m━━━━━━━━━━━━━━━━━━━━\u001b[0m\u001b[37m\u001b[0m \u001b[1m0s\u001b[0m 42ms/step\n",
      "clothes.jpg: Non-Biodegradable\n",
      "\u001b[1m1/1\u001b[0m \u001b[32m━━━━━━━━━━━━━━━━━━━━\u001b[0m\u001b[37m\u001b[0m \u001b[1m0s\u001b[0m 42ms/step\n",
      "corn_husk.jpg: Non-Biodegradable\n",
      "\u001b[1m1/1\u001b[0m \u001b[32m━━━━━━━━━━━━━━━━━━━━\u001b[0m\u001b[37m\u001b[0m \u001b[1m0s\u001b[0m 55ms/step\n",
      "dry_leaves.jpg: Non-Biodegradable\n",
      "\u001b[1m1/1\u001b[0m \u001b[32m━━━━━━━━━━━━━━━━━━━━\u001b[0m\u001b[37m\u001b[0m \u001b[1m0s\u001b[0m 51ms/step\n",
      "egg_shell.jpg: Non-Biodegradable\n",
      "\u001b[1m1/1\u001b[0m \u001b[32m━━━━━━━━━━━━━━━━━━━━\u001b[0m\u001b[37m\u001b[0m \u001b[1m0s\u001b[0m 47ms/step\n",
      "fennel_leaves.jpg: Non-Biodegradable\n",
      "\u001b[1m1/1\u001b[0m \u001b[32m━━━━━━━━━━━━━━━━━━━━\u001b[0m\u001b[37m\u001b[0m \u001b[1m0s\u001b[0m 60ms/step\n",
      "fish_bones.jpg: Non-Biodegradable\n",
      "\u001b[1m1/1\u001b[0m \u001b[32m━━━━━━━━━━━━━━━━━━━━\u001b[0m\u001b[37m\u001b[0m \u001b[1m0s\u001b[0m 50ms/step\n",
      "food waste.jpg: Non-Biodegradable\n",
      "\u001b[1m1/1\u001b[0m \u001b[32m━━━━━━━━━━━━━━━━━━━━\u001b[0m\u001b[37m\u001b[0m \u001b[1m0s\u001b[0m 55ms/step\n",
      "green_chilli.jpg: Non-Biodegradable\n",
      "\u001b[1m1/1\u001b[0m \u001b[32m━━━━━━━━━━━━━━━━━━━━\u001b[0m\u001b[37m\u001b[0m \u001b[1m0s\u001b[0m 55ms/step\n",
      "leaves.jpg: Non-Biodegradable\n",
      "\u001b[1m1/1\u001b[0m \u001b[32m━━━━━━━━━━━━━━━━━━━━\u001b[0m\u001b[37m\u001b[0m \u001b[1m0s\u001b[0m 54ms/step\n",
      "lemon_peel.jpg: Non-Biodegradable\n",
      "\u001b[1m1/1\u001b[0m \u001b[32m━━━━━━━━━━━━━━━━━━━━\u001b[0m\u001b[37m\u001b[0m \u001b[1m0s\u001b[0m 57ms/step\n",
      "mint_leaves.jpg: Non-Biodegradable\n",
      "\u001b[1m1/1\u001b[0m \u001b[32m━━━━━━━━━━━━━━━━━━━━\u001b[0m\u001b[37m\u001b[0m \u001b[1m0s\u001b[0m 61ms/step\n",
      "onion_peels.jpg: Non-Biodegradable\n",
      "\u001b[1m1/1\u001b[0m \u001b[32m━━━━━━━━━━━━━━━━━━━━\u001b[0m\u001b[37m\u001b[0m \u001b[1m0s\u001b[0m 64ms/step\n",
      "orange_peel.jpg: Non-Biodegradable\n",
      "\u001b[1m1/1\u001b[0m \u001b[32m━━━━━━━━━━━━━━━━━━━━\u001b[0m\u001b[37m\u001b[0m \u001b[1m0s\u001b[0m 89ms/step\n",
      "paper.jpg: Non-Biodegradable\n",
      "\u001b[1m1/1\u001b[0m \u001b[32m━━━━━━━━━━━━━━━━━━━━\u001b[0m\u001b[37m\u001b[0m \u001b[1m0s\u001b[0m 150ms/step\n",
      "peanut_shell.jpg: Non-Biodegradable\n",
      "\u001b[1m1/1\u001b[0m \u001b[32m━━━━━━━━━━━━━━━━━━━━\u001b[0m\u001b[37m\u001b[0m \u001b[1m0s\u001b[0m 138ms/step\n",
      "potato_peel.jpg: Non-Biodegradable\n",
      "\u001b[1m1/1\u001b[0m \u001b[32m━━━━━━━━━━━━━━━━━━━━\u001b[0m\u001b[37m\u001b[0m \u001b[1m0s\u001b[0m 135ms/step\n",
      "rice_straw.jpg: Non-Biodegradable\n",
      "\u001b[1m1/1\u001b[0m \u001b[32m━━━━━━━━━━━━━━━━━━━━\u001b[0m\u001b[37m\u001b[0m \u001b[1m0s\u001b[0m 102ms/step\n",
      "rotten_fruits.jpg: Non-Biodegradable\n",
      "\u001b[1m1/1\u001b[0m \u001b[32m━━━━━━━━━━━━━━━━━━━━\u001b[0m\u001b[37m\u001b[0m \u001b[1m0s\u001b[0m 55ms/step\n",
      "stale_bread.jpg: Non-Biodegradable\n",
      "\u001b[1m1/1\u001b[0m \u001b[32m━━━━━━━━━━━━━━━━━━━━\u001b[0m\u001b[37m\u001b[0m \u001b[1m0s\u001b[0m 50ms/step\n",
      "sugarcane.jpg: Non-Biodegradable\n",
      "\u001b[1m1/1\u001b[0m \u001b[32m━━━━━━━━━━━━━━━━━━━━\u001b[0m\u001b[37m\u001b[0m \u001b[1m0s\u001b[0m 45ms/step\n",
      "tomato.jpg: Non-Biodegradable\n",
      "\u001b[1m1/1\u001b[0m \u001b[32m━━━━━━━━━━━━━━━━━━━━\u001b[0m\u001b[37m\u001b[0m \u001b[1m0s\u001b[0m 53ms/step\n",
      "vegetable scraps.jpg: Non-Biodegradable\n"
     ]
    }
   ],
   "source": [
    "import os\n",
    "from tensorflow.keras.preprocessing import image\n",
    "import numpy as np\n",
    "\n",
    "test_folder = \"dataset/biodegradable\"  # या non_biodegradable\n",
    "\n",
    "for img_name in os.listdir(test_folder):\n",
    "    img_path = os.path.join(test_folder, img_name)\n",
    "    img = image.load_img(img_path, target_size=(64, 64))\n",
    "    img_array = image.img_to_array(img) / 255.0\n",
    "    img_array = np.expand_dims(img_array, axis=0)\n",
    "\n",
    "    prediction = model.predict(img_array)\n",
    "    label = \"Non-Biodegradable\" if prediction[0][0] > 0.5 else \"Biodegradable\"\n",
    "    print(f\"{img_name}: {label}\")"
   ]
  },
  {
   "cell_type": "code",
   "execution_count": 32,
   "id": "e562b76d",
   "metadata": {},
   "outputs": [
    {
     "name": "stdout",
     "output_type": "stream",
     "text": [
      "\u001b[1m1/1\u001b[0m \u001b[32m━━━━━━━━━━━━━━━━━━━━\u001b[0m\u001b[37m\u001b[0m \u001b[1m0s\u001b[0m 152ms/step - accuracy: 0.8000 - loss: 0.5617\n",
      "Model Accuracy: 80.00%\n"
     ]
    }
   ],
   "source": [
    "loss, accuracy = model.evaluate(X_test, y_test)\n",
    "print(f\"Model Accuracy: {accuracy * 100:.2f}%\")"
   ]
  }
 ],
 "metadata": {
  "kernelspec": {
   "display_name": "Python 3",
   "language": "python",
   "name": "python3"
  },
  "language_info": {
   "codemirror_mode": {
    "name": "ipython",
    "version": 3
   },
   "file_extension": ".py",
   "mimetype": "text/x-python",
   "name": "python",
   "nbconvert_exporter": "python",
   "pygments_lexer": "ipython3",
   "version": "3.10.11"
  }
 },
 "nbformat": 4,
 "nbformat_minor": 5
}
